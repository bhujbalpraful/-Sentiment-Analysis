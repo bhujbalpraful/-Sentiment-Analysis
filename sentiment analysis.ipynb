{
 "cells": [
  {
   "cell_type": "code",
   "execution_count": 2,
   "metadata": {},
   "outputs": [
    {
     "name": "stdout",
     "output_type": "stream",
     "text": [
      "Requirement already satisfied: textblob in c:\\users\\praful\\appdata\\local\\programs\\python\\python311\\lib\\site-packages (0.18.0.post0)\n",
      "Requirement already satisfied: nltk>=3.8 in c:\\users\\praful\\appdata\\local\\programs\\python\\python311\\lib\\site-packages (from textblob) (3.9.1)\n",
      "Requirement already satisfied: click in c:\\users\\praful\\appdata\\local\\programs\\python\\python311\\lib\\site-packages (from nltk>=3.8->textblob) (8.1.7)\n",
      "Requirement already satisfied: joblib in c:\\users\\praful\\appdata\\local\\programs\\python\\python311\\lib\\site-packages (from nltk>=3.8->textblob) (1.4.2)\n",
      "Requirement already satisfied: regex>=2021.8.3 in c:\\users\\praful\\appdata\\local\\programs\\python\\python311\\lib\\site-packages (from nltk>=3.8->textblob) (2024.11.6)\n",
      "Requirement already satisfied: tqdm in c:\\users\\praful\\appdata\\local\\programs\\python\\python311\\lib\\site-packages (from nltk>=3.8->textblob) (4.67.1)\n",
      "Requirement already satisfied: colorama in c:\\users\\praful\\appdata\\roaming\\python\\python311\\site-packages (from click->nltk>=3.8->textblob) (0.4.6)\n"
     ]
    },
    {
     "name": "stderr",
     "output_type": "stream",
     "text": [
      "\n",
      "[notice] A new release of pip is available: 24.0 -> 24.3.1\n",
      "[notice] To update, run: python.exe -m pip install --upgrade pip\n"
     ]
    },
    {
     "name": "stdout",
     "output_type": "stream",
     "text": [
      "Requirement already satisfied: nltk in c:\\users\\praful\\appdata\\local\\programs\\python\\python311\\lib\\site-packages (3.9.1)\n",
      "Requirement already satisfied: click in c:\\users\\praful\\appdata\\local\\programs\\python\\python311\\lib\\site-packages (from nltk) (8.1.7)\n",
      "Requirement already satisfied: joblib in c:\\users\\praful\\appdata\\local\\programs\\python\\python311\\lib\\site-packages (from nltk) (1.4.2)\n",
      "Requirement already satisfied: regex>=2021.8.3 in c:\\users\\praful\\appdata\\local\\programs\\python\\python311\\lib\\site-packages (from nltk) (2024.11.6)\n",
      "Requirement already satisfied: tqdm in c:\\users\\praful\\appdata\\local\\programs\\python\\python311\\lib\\site-packages (from nltk) (4.67.1)\n",
      "Requirement already satisfied: colorama in c:\\users\\praful\\appdata\\roaming\\python\\python311\\site-packages (from click->nltk) (0.4.6)\n"
     ]
    },
    {
     "name": "stderr",
     "output_type": "stream",
     "text": [
      "\n",
      "[notice] A new release of pip is available: 24.0 -> 24.3.1\n",
      "[notice] To update, run: python.exe -m pip install --upgrade pip\n"
     ]
    }
   ],
   "source": [
    "\n",
    "!pip install textblob\n",
    "!pip install nltk\n"
   ]
  },
  {
   "cell_type": "code",
   "execution_count": 3,
   "metadata": {},
   "outputs": [
    {
     "name": "stderr",
     "output_type": "stream",
     "text": [
      "[nltk_data] Downloading package punkt to\n",
      "[nltk_data]     C:\\Users\\Praful\\AppData\\Roaming\\nltk_data...\n",
      "[nltk_data]   Package punkt is already up-to-date!\n"
     ]
    },
    {
     "data": {
      "text/plain": [
       "True"
      ]
     },
     "execution_count": 3,
     "metadata": {},
     "output_type": "execute_result"
    }
   ],
   "source": [
    "from textblob import TextBlob\n",
    "import nltk\n",
    "nltk.download('punkt')  # Download tokenizer models (if not already installed)\n"
   ]
  },
  {
   "cell_type": "code",
   "execution_count": 5,
   "metadata": {},
   "outputs": [
    {
     "name": "stdout",
     "output_type": "stream",
     "text": [
      "Collecting pandas\n",
      "  Downloading pandas-2.2.3-cp311-cp311-win_amd64.whl.metadata (19 kB)\n",
      "Collecting numpy>=1.23.2 (from pandas)\n",
      "  Downloading numpy-2.2.0-cp311-cp311-win_amd64.whl.metadata (60 kB)\n",
      "     ---------------------------------------- 0.0/60.8 kB ? eta -:--:--\n",
      "     ---------------------------------------- 60.8/60.8 kB ? eta 0:00:00\n",
      "Requirement already satisfied: python-dateutil>=2.8.2 in c:\\users\\praful\\appdata\\roaming\\python\\python311\\site-packages (from pandas) (2.9.0.post0)\n",
      "Collecting pytz>=2020.1 (from pandas)\n",
      "  Downloading pytz-2024.2-py2.py3-none-any.whl.metadata (22 kB)\n",
      "Collecting tzdata>=2022.7 (from pandas)\n",
      "  Downloading tzdata-2024.2-py2.py3-none-any.whl.metadata (1.4 kB)\n",
      "Requirement already satisfied: six>=1.5 in c:\\users\\praful\\appdata\\roaming\\python\\python311\\site-packages (from python-dateutil>=2.8.2->pandas) (1.16.0)\n",
      "Downloading pandas-2.2.3-cp311-cp311-win_amd64.whl (11.6 MB)\n",
      "   ---------------------------------------- 0.0/11.6 MB ? eta -:--:--\n",
      "   - -------------------------------------- 0.4/11.6 MB 8.5 MB/s eta 0:00:02\n",
      "   -- ------------------------------------- 0.9/11.6 MB 9.0 MB/s eta 0:00:02\n",
      "   ---- ----------------------------------- 1.2/11.6 MB 9.4 MB/s eta 0:00:02\n",
      "   ---- ----------------------------------- 1.4/11.6 MB 8.0 MB/s eta 0:00:02\n",
      "   ----- ---------------------------------- 1.6/11.6 MB 7.2 MB/s eta 0:00:02\n",
      "   ------ --------------------------------- 2.0/11.6 MB 6.9 MB/s eta 0:00:02\n",
      "   ------- -------------------------------- 2.2/11.6 MB 6.7 MB/s eta 0:00:02\n",
      "   -------- ------------------------------- 2.4/11.6 MB 6.5 MB/s eta 0:00:02\n",
      "   --------- ------------------------------ 2.7/11.6 MB 6.4 MB/s eta 0:00:02\n",
      "   ---------- ----------------------------- 3.0/11.6 MB 6.3 MB/s eta 0:00:02\n",
      "   ----------- ---------------------------- 3.2/11.6 MB 6.0 MB/s eta 0:00:02\n",
      "   ----------- ---------------------------- 3.5/11.6 MB 6.0 MB/s eta 0:00:02\n",
      "   ------------ --------------------------- 3.7/11.6 MB 5.9 MB/s eta 0:00:02\n",
      "   ------------- -------------------------- 4.0/11.6 MB 5.9 MB/s eta 0:00:02\n",
      "   -------------- ------------------------- 4.1/11.6 MB 5.7 MB/s eta 0:00:02\n",
      "   --------------- ------------------------ 4.4/11.6 MB 5.7 MB/s eta 0:00:02\n",
      "   --------------- ------------------------ 4.6/11.6 MB 5.6 MB/s eta 0:00:02\n",
      "   ----------------- ---------------------- 5.0/11.6 MB 5.7 MB/s eta 0:00:02\n",
      "   ----------------- ---------------------- 5.2/11.6 MB 5.6 MB/s eta 0:00:02\n",
      "   ------------------ --------------------- 5.4/11.6 MB 5.6 MB/s eta 0:00:02\n",
      "   ------------------- -------------------- 5.7/11.6 MB 5.6 MB/s eta 0:00:02\n",
      "   -------------------- ------------------- 5.9/11.6 MB 5.6 MB/s eta 0:00:02\n",
      "   --------------------- ------------------ 6.2/11.6 MB 5.5 MB/s eta 0:00:01\n",
      "   ---------------------- ----------------- 6.4/11.6 MB 5.6 MB/s eta 0:00:01\n",
      "   ---------------------- ----------------- 6.7/11.6 MB 5.5 MB/s eta 0:00:01\n",
      "   ----------------------- ---------------- 6.9/11.6 MB 5.6 MB/s eta 0:00:01\n",
      "   ------------------------ --------------- 7.1/11.6 MB 5.5 MB/s eta 0:00:01\n",
      "   ------------------------- -------------- 7.4/11.6 MB 5.5 MB/s eta 0:00:01\n",
      "   ------------------------- -------------- 7.5/11.6 MB 5.4 MB/s eta 0:00:01\n",
      "   -------------------------- ------------- 7.8/11.6 MB 5.5 MB/s eta 0:00:01\n",
      "   --------------------------- ------------ 8.0/11.6 MB 5.4 MB/s eta 0:00:01\n",
      "   ---------------------------- ----------- 8.3/11.6 MB 5.4 MB/s eta 0:00:01\n",
      "   ----------------------------- ---------- 8.4/11.6 MB 5.5 MB/s eta 0:00:01\n",
      "   ------------------------------ --------- 8.7/11.6 MB 5.4 MB/s eta 0:00:01\n",
      "   ------------------------------ --------- 8.9/11.6 MB 5.4 MB/s eta 0:00:01\n",
      "   ------------------------------- -------- 9.1/11.6 MB 5.3 MB/s eta 0:00:01\n",
      "   -------------------------------- ------- 9.4/11.6 MB 5.4 MB/s eta 0:00:01\n",
      "   --------------------------------- ------ 9.7/11.6 MB 5.4 MB/s eta 0:00:01\n",
      "   --------------------------------- ------ 9.8/11.6 MB 5.4 MB/s eta 0:00:01\n",
      "   ---------------------------------- ----- 10.0/11.6 MB 5.3 MB/s eta 0:00:01\n",
      "   ----------------------------------- ---- 10.3/11.6 MB 5.4 MB/s eta 0:00:01\n",
      "   ------------------------------------ --- 10.5/11.6 MB 5.3 MB/s eta 0:00:01\n",
      "   ------------------------------------ --- 10.7/11.6 MB 5.2 MB/s eta 0:00:01\n",
      "   ------------------------------------- -- 10.9/11.6 MB 5.2 MB/s eta 0:00:01\n",
      "   -------------------------------------- - 11.1/11.6 MB 5.2 MB/s eta 0:00:01\n",
      "   ---------------------------------------  11.4/11.6 MB 5.1 MB/s eta 0:00:01\n",
      "   ---------------------------------------  11.6/11.6 MB 5.1 MB/s eta 0:00:01\n",
      "   ---------------------------------------- 11.6/11.6 MB 5.1 MB/s eta 0:00:00\n",
      "Downloading numpy-2.2.0-cp311-cp311-win_amd64.whl (12.9 MB)\n",
      "   ---------------------------------------- 0.0/12.9 MB ? eta -:--:--\n",
      "    --------------------------------------- 0.2/12.9 MB 5.6 MB/s eta 0:00:03\n",
      "   - -------------------------------------- 0.5/12.9 MB 4.7 MB/s eta 0:00:03\n",
      "   -- ------------------------------------- 0.7/12.9 MB 4.8 MB/s eta 0:00:03\n",
      "   --- ------------------------------------ 1.0/12.9 MB 5.2 MB/s eta 0:00:03\n",
      "   ---- ----------------------------------- 1.4/12.9 MB 5.4 MB/s eta 0:00:03\n",
      "   ----- ---------------------------------- 1.7/12.9 MB 5.7 MB/s eta 0:00:02\n",
      "   ----- ---------------------------------- 1.8/12.9 MB 5.3 MB/s eta 0:00:03\n",
      "   ------ --------------------------------- 2.1/12.9 MB 5.3 MB/s eta 0:00:03\n",
      "   ------- -------------------------------- 2.5/12.9 MB 5.6 MB/s eta 0:00:02\n",
      "   -------- ------------------------------- 2.7/12.9 MB 5.6 MB/s eta 0:00:02\n",
      "   -------- ------------------------------- 2.9/12.9 MB 5.4 MB/s eta 0:00:02\n",
      "   --------- ------------------------------ 3.1/12.9 MB 5.5 MB/s eta 0:00:02\n",
      "   ---------- ----------------------------- 3.4/12.9 MB 5.4 MB/s eta 0:00:02\n",
      "   ----------- ---------------------------- 3.6/12.9 MB 5.4 MB/s eta 0:00:02\n",
      "   ------------ --------------------------- 3.9/12.9 MB 5.4 MB/s eta 0:00:02\n",
      "   ------------ --------------------------- 4.1/12.9 MB 5.3 MB/s eta 0:00:02\n",
      "   ------------- -------------------------- 4.3/12.9 MB 5.3 MB/s eta 0:00:02\n",
      "   -------------- ------------------------- 4.6/12.9 MB 5.3 MB/s eta 0:00:02\n",
      "   -------------- ------------------------- 4.8/12.9 MB 5.4 MB/s eta 0:00:02\n",
      "   --------------- ------------------------ 5.0/12.9 MB 5.2 MB/s eta 0:00:02\n",
      "   ---------------- ----------------------- 5.3/12.9 MB 5.3 MB/s eta 0:00:02\n",
      "   ----------------- ---------------------- 5.5/12.9 MB 5.3 MB/s eta 0:00:02\n",
      "   ----------------- ---------------------- 5.8/12.9 MB 5.3 MB/s eta 0:00:02\n",
      "   ------------------ --------------------- 6.0/12.9 MB 5.3 MB/s eta 0:00:02\n",
      "   ------------------- -------------------- 6.3/12.9 MB 5.3 MB/s eta 0:00:02\n",
      "   ------------------- -------------------- 6.5/12.9 MB 5.2 MB/s eta 0:00:02\n",
      "   -------------------- ------------------- 6.7/12.9 MB 5.2 MB/s eta 0:00:02\n",
      "   --------------------- ------------------ 6.8/12.9 MB 5.2 MB/s eta 0:00:02\n",
      "   ---------------------- ----------------- 7.1/12.9 MB 5.2 MB/s eta 0:00:02\n",
      "   ---------------------- ----------------- 7.4/12.9 MB 5.2 MB/s eta 0:00:02\n",
      "   ----------------------- ---------------- 7.5/12.9 MB 5.2 MB/s eta 0:00:02\n",
      "   ----------------------- ---------------- 7.7/12.9 MB 5.2 MB/s eta 0:00:01\n",
      "   ------------------------ --------------- 8.0/12.9 MB 5.2 MB/s eta 0:00:01\n",
      "   ------------------------- -------------- 8.3/12.9 MB 5.2 MB/s eta 0:00:01\n",
      "   -------------------------- ------------- 8.5/12.9 MB 5.2 MB/s eta 0:00:01\n",
      "   -------------------------- ------------- 8.6/12.9 MB 5.2 MB/s eta 0:00:01\n",
      "   --------------------------- ------------ 8.9/12.9 MB 5.2 MB/s eta 0:00:01\n",
      "   ---------------------------- ----------- 9.2/12.9 MB 5.2 MB/s eta 0:00:01\n",
      "   ----------------------------- ---------- 9.4/12.9 MB 5.2 MB/s eta 0:00:01\n",
      "   ----------------------------- ---------- 9.6/12.9 MB 5.2 MB/s eta 0:00:01\n",
      "   ------------------------------ --------- 9.9/12.9 MB 5.2 MB/s eta 0:00:01\n",
      "   ------------------------------- -------- 10.2/12.9 MB 5.2 MB/s eta 0:00:01\n",
      "   -------------------------------- ------- 10.4/12.9 MB 5.2 MB/s eta 0:00:01\n",
      "   -------------------------------- ------- 10.5/12.9 MB 5.2 MB/s eta 0:00:01\n",
      "   --------------------------------- ------ 10.8/12.9 MB 5.2 MB/s eta 0:00:01\n",
      "   ---------------------------------- ----- 11.1/12.9 MB 5.2 MB/s eta 0:00:01\n",
      "   ----------------------------------- ---- 11.3/12.9 MB 5.2 MB/s eta 0:00:01\n",
      "   ----------------------------------- ---- 11.6/12.9 MB 5.2 MB/s eta 0:00:01\n",
      "   ------------------------------------ --- 11.8/12.9 MB 5.1 MB/s eta 0:00:01\n",
      "   ------------------------------------- -- 12.1/12.9 MB 5.2 MB/s eta 0:00:01\n",
      "   -------------------------------------- - 12.3/12.9 MB 5.2 MB/s eta 0:00:01\n",
      "   -------------------------------------- - 12.6/12.9 MB 5.1 MB/s eta 0:00:01\n",
      "   ---------------------------------------  12.8/12.9 MB 5.1 MB/s eta 0:00:01\n",
      "   ---------------------------------------  12.9/12.9 MB 5.1 MB/s eta 0:00:01\n",
      "   ---------------------------------------- 12.9/12.9 MB 5.0 MB/s eta 0:00:00\n",
      "Downloading pytz-2024.2-py2.py3-none-any.whl (508 kB)\n",
      "   ---------------------------------------- 0.0/508.0 kB ? eta -:--:--\n",
      "   ------------------ --------------------- 235.5/508.0 kB 4.8 MB/s eta 0:00:01\n",
      "   ---------------------------------------  501.8/508.0 kB 5.2 MB/s eta 0:00:01\n",
      "   ---------------------------------------- 508.0/508.0 kB 4.6 MB/s eta 0:00:00\n",
      "Downloading tzdata-2024.2-py2.py3-none-any.whl (346 kB)\n",
      "   ---------------------------------------- 0.0/346.6 kB ? eta -:--:--\n",
      "   ----------------------------------- ---- 307.2/346.6 kB 6.3 MB/s eta 0:00:01\n",
      "   ---------------------------------------- 346.6/346.6 kB 7.2 MB/s eta 0:00:00\n",
      "Installing collected packages: pytz, tzdata, numpy, pandas\n",
      "Successfully installed numpy-2.2.0 pandas-2.2.3 pytz-2024.2 tzdata-2024.2\n"
     ]
    },
    {
     "name": "stderr",
     "output_type": "stream",
     "text": [
      "\n",
      "[notice] A new release of pip is available: 24.0 -> 24.3.1\n",
      "[notice] To update, run: python.exe -m pip install --upgrade pip\n"
     ]
    }
   ],
   "source": [
    "! pip install pandas\n"
   ]
  },
  {
   "cell_type": "code",
   "execution_count": 6,
   "metadata": {},
   "outputs": [],
   "source": [
    "import pandas as pd \n"
   ]
  },
  {
   "cell_type": "code",
   "execution_count": 7,
   "metadata": {},
   "outputs": [],
   "source": [
    "df=pd.read_csv(r\"C:\\Users\\Praful\\Desktop\\Data science\\Reviews.csv\")"
   ]
  },
  {
   "cell_type": "code",
   "execution_count": 8,
   "metadata": {},
   "outputs": [
    {
     "data": {
      "text/html": [
       "<div>\n",
       "<style scoped>\n",
       "    .dataframe tbody tr th:only-of-type {\n",
       "        vertical-align: middle;\n",
       "    }\n",
       "\n",
       "    .dataframe tbody tr th {\n",
       "        vertical-align: top;\n",
       "    }\n",
       "\n",
       "    .dataframe thead th {\n",
       "        text-align: right;\n",
       "    }\n",
       "</style>\n",
       "<table border=\"1\" class=\"dataframe\">\n",
       "  <thead>\n",
       "    <tr style=\"text-align: right;\">\n",
       "      <th></th>\n",
       "      <th>Id</th>\n",
       "      <th>ProductId</th>\n",
       "      <th>UserId</th>\n",
       "      <th>ProfileName</th>\n",
       "      <th>HelpfulnessNumerator</th>\n",
       "      <th>HelpfulnessDenominator</th>\n",
       "      <th>Score</th>\n",
       "      <th>Time</th>\n",
       "      <th>Summary</th>\n",
       "      <th>Text</th>\n",
       "    </tr>\n",
       "  </thead>\n",
       "  <tbody>\n",
       "    <tr>\n",
       "      <th>0</th>\n",
       "      <td>1</td>\n",
       "      <td>B001E4KFG0</td>\n",
       "      <td>A3SGXH7AUHU8GW</td>\n",
       "      <td>delmartian</td>\n",
       "      <td>1</td>\n",
       "      <td>1</td>\n",
       "      <td>5</td>\n",
       "      <td>1303862400</td>\n",
       "      <td>Good Quality Dog Food</td>\n",
       "      <td>I have bought several of the Vitality canned d...</td>\n",
       "    </tr>\n",
       "    <tr>\n",
       "      <th>1</th>\n",
       "      <td>2</td>\n",
       "      <td>B00813GRG4</td>\n",
       "      <td>A1D87F6ZCVE5NK</td>\n",
       "      <td>dll pa</td>\n",
       "      <td>0</td>\n",
       "      <td>0</td>\n",
       "      <td>1</td>\n",
       "      <td>1346976000</td>\n",
       "      <td>Not as Advertised</td>\n",
       "      <td>Product arrived labeled as Jumbo Salted Peanut...</td>\n",
       "    </tr>\n",
       "    <tr>\n",
       "      <th>2</th>\n",
       "      <td>3</td>\n",
       "      <td>B000LQOCH0</td>\n",
       "      <td>ABXLMWJIXXAIN</td>\n",
       "      <td>Natalia Corres \"Natalia Corres\"</td>\n",
       "      <td>1</td>\n",
       "      <td>1</td>\n",
       "      <td>4</td>\n",
       "      <td>1219017600</td>\n",
       "      <td>\"Delight\" says it all</td>\n",
       "      <td>This is a confection that has been around a fe...</td>\n",
       "    </tr>\n",
       "    <tr>\n",
       "      <th>3</th>\n",
       "      <td>4</td>\n",
       "      <td>B000UA0QIQ</td>\n",
       "      <td>A395BORC6FGVXV</td>\n",
       "      <td>Karl</td>\n",
       "      <td>3</td>\n",
       "      <td>3</td>\n",
       "      <td>2</td>\n",
       "      <td>1307923200</td>\n",
       "      <td>Cough Medicine</td>\n",
       "      <td>If you are looking for the secret ingredient i...</td>\n",
       "    </tr>\n",
       "    <tr>\n",
       "      <th>4</th>\n",
       "      <td>5</td>\n",
       "      <td>B006K2ZZ7K</td>\n",
       "      <td>A1UQRSCLF8GW1T</td>\n",
       "      <td>Michael D. Bigham \"M. Wassir\"</td>\n",
       "      <td>0</td>\n",
       "      <td>0</td>\n",
       "      <td>5</td>\n",
       "      <td>1350777600</td>\n",
       "      <td>Great taffy</td>\n",
       "      <td>Great taffy at a great price.  There was a wid...</td>\n",
       "    </tr>\n",
       "  </tbody>\n",
       "</table>\n",
       "</div>"
      ],
      "text/plain": [
       "   Id   ProductId          UserId                      ProfileName  \\\n",
       "0   1  B001E4KFG0  A3SGXH7AUHU8GW                       delmartian   \n",
       "1   2  B00813GRG4  A1D87F6ZCVE5NK                           dll pa   \n",
       "2   3  B000LQOCH0   ABXLMWJIXXAIN  Natalia Corres \"Natalia Corres\"   \n",
       "3   4  B000UA0QIQ  A395BORC6FGVXV                             Karl   \n",
       "4   5  B006K2ZZ7K  A1UQRSCLF8GW1T    Michael D. Bigham \"M. Wassir\"   \n",
       "\n",
       "   HelpfulnessNumerator  HelpfulnessDenominator  Score        Time  \\\n",
       "0                     1                       1      5  1303862400   \n",
       "1                     0                       0      1  1346976000   \n",
       "2                     1                       1      4  1219017600   \n",
       "3                     3                       3      2  1307923200   \n",
       "4                     0                       0      5  1350777600   \n",
       "\n",
       "                 Summary                                               Text  \n",
       "0  Good Quality Dog Food  I have bought several of the Vitality canned d...  \n",
       "1      Not as Advertised  Product arrived labeled as Jumbo Salted Peanut...  \n",
       "2  \"Delight\" says it all  This is a confection that has been around a fe...  \n",
       "3         Cough Medicine  If you are looking for the secret ingredient i...  \n",
       "4            Great taffy  Great taffy at a great price.  There was a wid...  "
      ]
     },
     "execution_count": 8,
     "metadata": {},
     "output_type": "execute_result"
    }
   ],
   "source": [
    "df.head()"
   ]
  },
  {
   "cell_type": "code",
   "execution_count": 10,
   "metadata": {},
   "outputs": [],
   "source": [
    "import re\n",
    "from nltk.tokenize import word_tokenize\n",
    "import nltk"
   ]
  },
  {
   "cell_type": "code",
   "execution_count": 11,
   "metadata": {},
   "outputs": [
    {
     "name": "stderr",
     "output_type": "stream",
     "text": [
      "[nltk_data] Downloading package punkt to\n",
      "[nltk_data]     C:\\Users\\Praful\\AppData\\Roaming\\nltk_data...\n",
      "[nltk_data]   Package punkt is already up-to-date!\n"
     ]
    },
    {
     "data": {
      "text/plain": [
       "True"
      ]
     },
     "execution_count": 11,
     "metadata": {},
     "output_type": "execute_result"
    }
   ],
   "source": [
    "nltk.download('punkt')"
   ]
  },
  {
   "cell_type": "code",
   "execution_count": 12,
   "metadata": {},
   "outputs": [],
   "source": [
    "\n",
    "def preprocess_text(text):\n",
    "    text = text.lower()  # Convert to lowercase\n",
    "    text = re.sub(r'[^a-z\\s]', '', text)  # Remove non-alphabetic characters\n",
    "    return text\n"
   ]
  },
  {
   "cell_type": "code",
   "execution_count": 13,
   "metadata": {},
   "outputs": [],
   "source": [
    "df['cleaned_review'] = df['Text'].apply(preprocess_text)"
   ]
  },
  {
   "cell_type": "code",
   "execution_count": 16,
   "metadata": {},
   "outputs": [
    {
     "data": {
      "text/html": [
       "<div>\n",
       "<style scoped>\n",
       "    .dataframe tbody tr th:only-of-type {\n",
       "        vertical-align: middle;\n",
       "    }\n",
       "\n",
       "    .dataframe tbody tr th {\n",
       "        vertical-align: top;\n",
       "    }\n",
       "\n",
       "    .dataframe thead th {\n",
       "        text-align: right;\n",
       "    }\n",
       "</style>\n",
       "<table border=\"1\" class=\"dataframe\">\n",
       "  <thead>\n",
       "    <tr style=\"text-align: right;\">\n",
       "      <th></th>\n",
       "      <th>Text</th>\n",
       "      <th>cleaned_review</th>\n",
       "    </tr>\n",
       "  </thead>\n",
       "  <tbody>\n",
       "    <tr>\n",
       "      <th>0</th>\n",
       "      <td>I have bought several of the Vitality canned d...</td>\n",
       "      <td>i have bought several of the vitality canned d...</td>\n",
       "    </tr>\n",
       "    <tr>\n",
       "      <th>1</th>\n",
       "      <td>Product arrived labeled as Jumbo Salted Peanut...</td>\n",
       "      <td>product arrived labeled as jumbo salted peanut...</td>\n",
       "    </tr>\n",
       "    <tr>\n",
       "      <th>2</th>\n",
       "      <td>This is a confection that has been around a fe...</td>\n",
       "      <td>this is a confection that has been around a fe...</td>\n",
       "    </tr>\n",
       "    <tr>\n",
       "      <th>3</th>\n",
       "      <td>If you are looking for the secret ingredient i...</td>\n",
       "      <td>if you are looking for the secret ingredient i...</td>\n",
       "    </tr>\n",
       "    <tr>\n",
       "      <th>4</th>\n",
       "      <td>Great taffy at a great price.  There was a wid...</td>\n",
       "      <td>great taffy at a great price  there was a wide...</td>\n",
       "    </tr>\n",
       "  </tbody>\n",
       "</table>\n",
       "</div>"
      ],
      "text/plain": [
       "                                                Text  \\\n",
       "0  I have bought several of the Vitality canned d...   \n",
       "1  Product arrived labeled as Jumbo Salted Peanut...   \n",
       "2  This is a confection that has been around a fe...   \n",
       "3  If you are looking for the secret ingredient i...   \n",
       "4  Great taffy at a great price.  There was a wid...   \n",
       "\n",
       "                                      cleaned_review  \n",
       "0  i have bought several of the vitality canned d...  \n",
       "1  product arrived labeled as jumbo salted peanut...  \n",
       "2  this is a confection that has been around a fe...  \n",
       "3  if you are looking for the secret ingredient i...  \n",
       "4  great taffy at a great price  there was a wide...  "
      ]
     },
     "execution_count": 16,
     "metadata": {},
     "output_type": "execute_result"
    }
   ],
   "source": [
    "df[['Text', 'cleaned_review']].head()"
   ]
  },
  {
   "cell_type": "code",
   "execution_count": 17,
   "metadata": {},
   "outputs": [],
   "source": [
    "from textblob import TextBlob"
   ]
  },
  {
   "cell_type": "code",
   "execution_count": 19,
   "metadata": {},
   "outputs": [],
   "source": [
    "def get_sentiment(text):\n",
    "    blob = TextBlob(text)\n",
    "    polarity = blob.sentiment.polarity  # Polarity: -1 (negative) to 1 (positive)\n",
    "    subjectivity = blob.sentiment.subjectivity  # Subjectivity: 0 (objective) to 1 (subjective)\n",
    "    return polarity, subjectivity"
   ]
  },
  {
   "cell_type": "code",
   "execution_count": 20,
   "metadata": {},
   "outputs": [],
   "source": [
    "df[['polarity', 'subjectivity']] = df['cleaned_review'].apply(lambda x: pd.Series(get_sentiment(x)))"
   ]
  },
  {
   "cell_type": "code",
   "execution_count": 22,
   "metadata": {},
   "outputs": [
    {
     "data": {
      "text/html": [
       "<div>\n",
       "<style scoped>\n",
       "    .dataframe tbody tr th:only-of-type {\n",
       "        vertical-align: middle;\n",
       "    }\n",
       "\n",
       "    .dataframe tbody tr th {\n",
       "        vertical-align: top;\n",
       "    }\n",
       "\n",
       "    .dataframe thead th {\n",
       "        text-align: right;\n",
       "    }\n",
       "</style>\n",
       "<table border=\"1\" class=\"dataframe\">\n",
       "  <thead>\n",
       "    <tr style=\"text-align: right;\">\n",
       "      <th></th>\n",
       "      <th>Text</th>\n",
       "      <th>polarity</th>\n",
       "      <th>subjectivity</th>\n",
       "    </tr>\n",
       "  </thead>\n",
       "  <tbody>\n",
       "    <tr>\n",
       "      <th>0</th>\n",
       "      <td>I have bought several of the Vitality canned d...</td>\n",
       "      <td>0.450000</td>\n",
       "      <td>0.433333</td>\n",
       "    </tr>\n",
       "    <tr>\n",
       "      <th>1</th>\n",
       "      <td>Product arrived labeled as Jumbo Salted Peanut...</td>\n",
       "      <td>-0.033333</td>\n",
       "      <td>0.762963</td>\n",
       "    </tr>\n",
       "    <tr>\n",
       "      <th>2</th>\n",
       "      <td>This is a confection that has been around a fe...</td>\n",
       "      <td>0.133571</td>\n",
       "      <td>0.448571</td>\n",
       "    </tr>\n",
       "    <tr>\n",
       "      <th>3</th>\n",
       "      <td>If you are looking for the secret ingredient i...</td>\n",
       "      <td>0.166667</td>\n",
       "      <td>0.533333</td>\n",
       "    </tr>\n",
       "    <tr>\n",
       "      <th>4</th>\n",
       "      <td>Great taffy at a great price.  There was a wid...</td>\n",
       "      <td>0.483333</td>\n",
       "      <td>0.637500</td>\n",
       "    </tr>\n",
       "  </tbody>\n",
       "</table>\n",
       "</div>"
      ],
      "text/plain": [
       "                                                Text  polarity  subjectivity\n",
       "0  I have bought several of the Vitality canned d...  0.450000      0.433333\n",
       "1  Product arrived labeled as Jumbo Salted Peanut... -0.033333      0.762963\n",
       "2  This is a confection that has been around a fe...  0.133571      0.448571\n",
       "3  If you are looking for the secret ingredient i...  0.166667      0.533333\n",
       "4  Great taffy at a great price.  There was a wid...  0.483333      0.637500"
      ]
     },
     "execution_count": 22,
     "metadata": {},
     "output_type": "execute_result"
    }
   ],
   "source": [
    "df[['Text', 'polarity', 'subjectivity']].head()"
   ]
  },
  {
   "cell_type": "code",
   "execution_count": 23,
   "metadata": {},
   "outputs": [
    {
     "data": {
      "text/html": [
       "<div>\n",
       "<style scoped>\n",
       "    .dataframe tbody tr th:only-of-type {\n",
       "        vertical-align: middle;\n",
       "    }\n",
       "\n",
       "    .dataframe tbody tr th {\n",
       "        vertical-align: top;\n",
       "    }\n",
       "\n",
       "    .dataframe thead th {\n",
       "        text-align: right;\n",
       "    }\n",
       "</style>\n",
       "<table border=\"1\" class=\"dataframe\">\n",
       "  <thead>\n",
       "    <tr style=\"text-align: right;\">\n",
       "      <th></th>\n",
       "      <th>Text</th>\n",
       "      <th>sentiment</th>\n",
       "    </tr>\n",
       "  </thead>\n",
       "  <tbody>\n",
       "    <tr>\n",
       "      <th>0</th>\n",
       "      <td>I have bought several of the Vitality canned d...</td>\n",
       "      <td>Positive</td>\n",
       "    </tr>\n",
       "    <tr>\n",
       "      <th>1</th>\n",
       "      <td>Product arrived labeled as Jumbo Salted Peanut...</td>\n",
       "      <td>Neutral</td>\n",
       "    </tr>\n",
       "    <tr>\n",
       "      <th>2</th>\n",
       "      <td>This is a confection that has been around a fe...</td>\n",
       "      <td>Positive</td>\n",
       "    </tr>\n",
       "    <tr>\n",
       "      <th>3</th>\n",
       "      <td>If you are looking for the secret ingredient i...</td>\n",
       "      <td>Positive</td>\n",
       "    </tr>\n",
       "    <tr>\n",
       "      <th>4</th>\n",
       "      <td>Great taffy at a great price.  There was a wid...</td>\n",
       "      <td>Positive</td>\n",
       "    </tr>\n",
       "  </tbody>\n",
       "</table>\n",
       "</div>"
      ],
      "text/plain": [
       "                                                Text sentiment\n",
       "0  I have bought several of the Vitality canned d...  Positive\n",
       "1  Product arrived labeled as Jumbo Salted Peanut...   Neutral\n",
       "2  This is a confection that has been around a fe...  Positive\n",
       "3  If you are looking for the secret ingredient i...  Positive\n",
       "4  Great taffy at a great price.  There was a wid...  Positive"
      ]
     },
     "execution_count": 23,
     "metadata": {},
     "output_type": "execute_result"
    }
   ],
   "source": [
    "def classify_sentiment(polarity):\n",
    "    if polarity > 0.1:\n",
    "        return 'Positive'\n",
    "    elif polarity < -0.1:\n",
    "        return 'Negative'\n",
    "    else:\n",
    "        return 'Neutral'\n",
    "\n",
    "\n",
    "df['sentiment'] = df['polarity'].apply(classify_sentiment)\n",
    "\n",
    "\n",
    "df[['Text', 'sentiment']].head()\n"
   ]
  },
  {
   "cell_type": "code",
   "execution_count": null,
   "metadata": {},
   "outputs": [],
   "source": []
  },
  {
   "cell_type": "code",
   "execution_count": null,
   "metadata": {},
   "outputs": [],
   "source": []
  },
  {
   "cell_type": "code",
   "execution_count": null,
   "metadata": {},
   "outputs": [],
   "source": []
  }
 ],
 "metadata": {
  "kernelspec": {
   "display_name": "Python 3",
   "language": "python",
   "name": "python3"
  },
  "language_info": {
   "codemirror_mode": {
    "name": "ipython",
    "version": 3
   },
   "file_extension": ".py",
   "mimetype": "text/x-python",
   "name": "python",
   "nbconvert_exporter": "python",
   "pygments_lexer": "ipython3",
   "version": "3.11.8"
  }
 },
 "nbformat": 4,
 "nbformat_minor": 2
}
